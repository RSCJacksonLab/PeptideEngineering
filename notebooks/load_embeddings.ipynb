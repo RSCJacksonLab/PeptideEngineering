{
 "cells": [
  {
   "cell_type": "code",
   "execution_count": 39,
   "metadata": {},
   "outputs": [],
   "source": [
    "import pandas as pd\n",
    "import numpy as np"
   ]
  },
  {
   "cell_type": "code",
   "execution_count": 2,
   "metadata": {},
   "outputs": [],
   "source": [
    "st_scores = pd.read_csv(\"../encoding_schemes/ST_scores.csv\")"
   ]
  },
  {
   "cell_type": "code",
   "execution_count": 62,
   "metadata": {},
   "outputs": [
    {
     "name": "stdout",
     "output_type": "stream",
     "text": [
      "26\n"
     ]
    }
   ],
   "source": [
    "aa_name_ls = [\"Arginine\", \"Alanine\", \"Asparagine\", \"Aspartic acid\", \"Cysteine\", \"Glutamine\", \"Glutamic acid\", \"Glycine\", \"Histidine\", \"Isoleucine\", \"Leucine\", \"Lysine\", \"Methionine\", \"Phenylalanine\", \"Proline\", \"Serine\", \"Threonine\", \"Tryptophan\", \"Tyrosine\", \"Valine\", \"2,4-Diaminobutyric acid\", \"Homoarginine\", \"Homoserine\", \"Ornithine\", \"β-(4,4′-Biphenyl)alanine\", \"4′-Benzoylphenylalanine\"]\n",
    "print(len(aa_name_ls))"
   ]
  },
  {
   "cell_type": "code",
   "execution_count": 63,
   "metadata": {},
   "outputs": [],
   "source": [
    "st_scores_reduced = st_scores[st_scores.Name.isin(aa_name_ls)]"
   ]
  },
  {
   "cell_type": "code",
   "execution_count": 65,
   "metadata": {},
   "outputs": [
    {
     "name": "stdout",
     "output_type": "stream",
     "text": [
      "26\n"
     ]
    }
   ],
   "source": [
    "st_score_red_name_ls = st_scores_reduced.Name.tolist()\n",
    "st_scores_arr = st_scores_reduced.to_numpy()[:, -8:]\n"
   ]
  },
  {
   "cell_type": "code",
   "execution_count": 66,
   "metadata": {},
   "outputs": [],
   "source": [
    "true_aa_name_ls = [\"A\", \"R\", \"N\", \"D\", \"C\", \"Q\", \"E\", \"G\", \"H\", \"I\", \"L\", \"K\", \"M\", \"F\", \"P\", \"S\", \"T\", \"W\", \"Y\", \"V\", \"Dab\", \"Hr\", \"Hse\", \"Orn\", \"Bip\", \"Bpa\"]\n"
   ]
  },
  {
   "cell_type": "code",
   "execution_count": 67,
   "metadata": {},
   "outputs": [],
   "source": [
    "st_score_dict = {name: st_scores_arr[i] for i, name in enumerate(true_aa_name_ls)}"
   ]
  },
  {
   "cell_type": "code",
   "execution_count": 68,
   "metadata": {},
   "outputs": [],
   "source": [
    "st_score_dict[\"-\"] = np.zeros((8))"
   ]
  },
  {
   "cell_type": "code",
   "execution_count": 121,
   "metadata": {},
   "outputs": [],
   "source": [
    "true_aa_name_ls = [\"A\", \"R\", \"N\", \"D\", \"C\", \"Q\", \"E\", \"G\", \"H\", \"I\", \"L\", \"K\", \"M\", \"F\", \"P\", \"S\", \"T\", \"W\", \"Y\", \"V\", \"Dab\", \"Hr\", \"Hse\", \"Orn\", \"Bip\", \"Bpa\"]\n",
    "\n",
    "def get_st_score_dict(add_token_ls: list = None):\n",
    "    if not add_token_ls:\n",
    "        add_token_ls = []\n",
    "    st_scores = pd.read_csv(\"../encoding_schemes/ST_scores.csv\")\n",
    "    aa_name_ls = [\"Arginine\", \"Alanine\", \"Asparagine\", \"Aspartic acid\", \"Cysteine\", \"Glutamine\", \"Glutamic acid\", \"Glycine\", \"Histidine\", \"Isoleucine\", \"Leucine\", \"Lysine\", \"Methionine\", \"Phenylalanine\", \"Proline\", \"Serine\", \"Threonine\", \"Tryptophan\", \"Tyrosine\", \"Valine\", \"2,4-Diaminobutyric acid\", \"Homoarginine\", \"Homoserine\", \"Ornithine\", \"β-(4,4′-Biphenyl)alanine\", \"4′-Benzoylphenylalanine\"]\n",
    "    st_scores_reduced = st_scores[st_scores.Name.isin(aa_name_ls)]\n",
    "    st_scores_arr = st_scores_reduced.to_numpy()[:, -8:]\n",
    "    st_score_dict = {name: st_scores_arr[i] for i, name in enumerate(true_aa_name_ls)}\n",
    "    st_score_dict[\"-\"] = np.zeros((8))\n",
    "    return st_score_dict"
   ]
  },
  {
   "attachments": {},
   "cell_type": "markdown",
   "metadata": {},
   "source": [
    "Encoding function for ST scores"
   ]
  },
  {
   "cell_type": "code",
   "execution_count": 122,
   "metadata": {},
   "outputs": [
    {
     "name": "stdout",
     "output_type": "stream",
     "text": [
      "[array(['−1.552', '−0.791', '−0.627', '0.237', '−0.461', '−2.229', '0.283',\n",
      "       '1.221'], dtype=object), array(['−1.552', '−0.791', '−0.627', '0.237', '−0.461', '−2.229', '0.283',\n",
      "       '1.221'], dtype=object), array(['−1.095', '−0.261', '−0.607', '−0.246', '0.387', '−0.13', '0.081',\n",
      "       '−0.09'], dtype=object), array(['0.308', '0.569', '1.1', '−0.464', '−0.144', '−0.354', '−1.099',\n",
      "       '0.162'], dtype=object), array(['1.358', '1.094', '0.807', '−0.04', '−1.159', '−1.141', '−2.037',\n",
      "       '−1.213'], dtype=object)]\n"
     ]
    }
   ],
   "source": [
    "def st_encode_sequence(sequence, st_score_dict):\n",
    "    st_encoded_sequence = [st_score_dict[symbol] for symbol in sequence]\n",
    "    return st_encoded_sequence    \n",
    "\n",
    "symbols = true_aa_name_ls\n",
    "st_score_dict = get_st_score_dict(symbols)\n",
    "\n",
    "sequence = ['A', 'A', 'Hse', 'Y', 'Bip']\n",
    "st_encoded_sequence = st_encode_sequence(sequence, st_score_dict)\n",
    "print(st_encoded_sequence)"
   ]
  },
  {
   "attachments": {},
   "cell_type": "markdown",
   "metadata": {},
   "source": [
    "# T-Scores"
   ]
  },
  {
   "cell_type": "code",
   "execution_count": 70,
   "metadata": {},
   "outputs": [],
   "source": [
    "t_scores = pd.read_csv(\"../encoding_schemes/T-scales.csv\")"
   ]
  },
  {
   "cell_type": "code",
   "execution_count": 74,
   "metadata": {},
   "outputs": [
    {
     "data": {
      "text/plain": [
       "26"
      ]
     },
     "execution_count": 74,
     "metadata": {},
     "output_type": "execute_result"
    }
   ],
   "source": [
    "aa_name_ls2 = [\"Arginine\", \"Alanine\", \"Asparagine\", \"Aspartic-acid\", \"Cysteine\", \"Glutamine\", \"Glutamic-acid\", \"Glycine\", \"Histidine\", \"Isoleucine\", \"Leucine\", \"Lysine\", \"Methionine\", \"Phenylalanine\", \"Proline\", \"Serine\", \"Threonine\", \"Tryptophan\", \"Tyrosine\", \"Valine\", \"2,4-Diaminobutyric-acid\", \"Homoarginine\", \"Homoserine\", \"Ornithine\", \"b-(4,40-Biphenyl)alanine\", \"40-Benzoylphenylalanine\"]\n",
    "t_scores_reduced = t_scores[t_scores.Name.isin(aa_name_ls2)]\n"
   ]
  },
  {
   "cell_type": "code",
   "execution_count": 118,
   "metadata": {},
   "outputs": [],
   "source": [
    "t_score_red_name_ls = t_scores_reduced.Name.tolist()\n",
    "t_scores_arr = t_scores_reduced.to_numpy()[:, -5:]\n"
   ]
  },
  {
   "cell_type": "code",
   "execution_count": 80,
   "metadata": {},
   "outputs": [],
   "source": [
    "t_score_dict = {name: t_scores_arr[i] for i, name in enumerate(true_aa_name_ls)}\n",
    "t_score_dict[\"-\"] = np.zeros((5))"
   ]
  },
  {
   "cell_type": "code",
   "execution_count": 123,
   "metadata": {},
   "outputs": [],
   "source": [
    "true_aa_name_ls = [\"A\", \"R\", \"N\", \"D\", \"C\", \"Q\", \"E\", \"G\", \"H\", \"I\", \"L\", \"K\", \"M\", \"F\", \"P\", \"S\", \"T\", \"W\", \"Y\", \"V\", \"Dab\", \"Hr\", \"Hse\", \"Orn\", \"Bip\", \"Bpa\"]\n",
    "def get_t_score_dict(add_token_ls: list = None):\n",
    "    if not add_token_ls:\n",
    "        add_token_ls = []\n",
    "    t_scores = pd.read_csv(\"../encoding_schemes/T-scales.csv\")\n",
    "    aa_name_ls2 = [\"Arginine\", \"Alanine\", \"Asparagine\", \"Aspartic-acid\", \"Cysteine\", \"Glutamine\", \"Glutamic-acid\", \"Glycine\", \"Histidine\", \"Isoleucine\", \"Leucine\", \"Lysine\", \"Methionine\", \"Phenylalanine\", \"Proline\", \"Serine\", \"Threonine\", \"Tryptophan\", \"Tyrosine\", \"Valine\", \"2,4-Diaminobutyric-acid\", \"Homoarginine\", \"Homoserine\", \"Ornithine\", \"b-(4,40-Biphenyl)alanine\", \"40-Benzoylphenylalanine\"]\n",
    "    t_scores_reduced = t_scores[t_scores.Name.isin(aa_name_ls2)]\n",
    "    t_scores_arr = t_scores_reduced.to_numpy()[:, -5:]\n",
    "    t_score_dict = {name: t_scores_arr[i] for i, name in enumerate(true_aa_name_ls)}\n",
    "    t_score_dict[\"-\"] = np.zeros((5))\n",
    "    return t_score_dict"
   ]
  },
  {
   "attachments": {},
   "cell_type": "markdown",
   "metadata": {},
   "source": [
    "Encoding function for t scales"
   ]
  },
  {
   "cell_type": "code",
   "execution_count": 124,
   "metadata": {},
   "outputs": [
    {
     "name": "stdout",
     "output_type": "stream",
     "text": [
      "[array([-9.11, -1.63, 0.63, 1.04, 2.26], dtype=object), array([-9.11, -1.63, 0.63, 1.04, 2.26], dtype=object), array([-5.84, 0.3, 0.09, 0.08, 0.95], dtype=object), array([2.08, -0.47, 0.07, -1.67, -0.35], dtype=object), array([10.77, -1.14, -1.3, -1.77, 0.76], dtype=object)]\n"
     ]
    }
   ],
   "source": [
    "def t_encode_sequence(sequence, t_score_dict):\n",
    "    t_encoded_sequence = [t_score_dict[symbol] for symbol in sequence]\n",
    "    return t_encoded_sequence    \n",
    "\n",
    "symbols = true_aa_name_ls\n",
    "t_score_dict = get_t_score_dict(symbols)\n",
    "\n",
    "sequence = ['A', 'A', 'Hse', 'Y', 'Bip']\n",
    "t_encoded_sequence = t_encode_sequence(sequence, t_score_dict)\n",
    "print(t_encoded_sequence)"
   ]
  },
  {
   "attachments": {},
   "cell_type": "markdown",
   "metadata": {},
   "source": [
    "# Integer representation"
   ]
  },
  {
   "cell_type": "code",
   "execution_count": 142,
   "metadata": {},
   "outputs": [],
   "source": [
    "true_aa_name_ls = [\"A\", \"R\", \"N\", \"D\", \"C\", \"Q\", \"E\", \"G\", \"H\", \"I\", \"L\", \"K\", \"M\", \"F\", \"P\", \"S\", \"T\", \"W\", \"Y\", \"V\", \"Dab\", \"Hr\", \"Hse\", \"Orn\", \"Bip\", \"Bpa\"]\n",
    "def get_integer_dict(additional_tokens: list = None):\n",
    "    if not additional_tokens:\n",
    "        additional_tokens = []\n",
    "    integer_dict = {symbol: i for i, symbol in enumerate(true_aa_name_ls)}\n",
    "    return integer_dict\n",
    "\n",
    "integer_dict = get_integer_dict(additional_tokens)"
   ]
  },
  {
   "attachments": {},
   "cell_type": "markdown",
   "metadata": {},
   "source": [
    "Integer encoding function."
   ]
  },
  {
   "cell_type": "code",
   "execution_count": 157,
   "metadata": {},
   "outputs": [],
   "source": [
    "def get_integer_dict(additional_tokens: list = None):\n",
    "    if additional_tokens is None:\n",
    "        additional_tokens = []\n",
    "    integer_dict = {symbol: i for i, symbol in enumerate(true_aa_name_ls + additional_tokens)}\n",
    "    return integer_dict\n",
    "# Additional tokens\n",
    "termini_symbols = [\"*\", \"#\"]\n",
    "gap = [\"-\"]\n",
    "additional_tokens = termini_symbols + gap\n",
    "\n",
    "integer_dict = get_integer_dict(additional_tokens)"
   ]
  },
  {
   "cell_type": "code",
   "execution_count": 160,
   "metadata": {},
   "outputs": [
    {
     "name": "stdout",
     "output_type": "stream",
     "text": [
      "st encoded sequence: \n",
      "[array(['−1.552', '−0.791', '−0.627', '0.237', '−0.461', '−2.229', '0.283',\n",
      "       '1.221'], dtype=object), array(['−1.552', '−0.791', '−0.627', '0.237', '−0.461', '−2.229', '0.283',\n",
      "       '1.221'], dtype=object), array(['−1.095', '−0.261', '−0.607', '−0.246', '0.387', '−0.13', '0.081',\n",
      "       '−0.09'], dtype=object), array(['0.308', '0.569', '1.1', '−0.464', '−0.144', '−0.354', '−1.099',\n",
      "       '0.162'], dtype=object), array(['1.358', '1.094', '0.807', '−0.04', '−1.159', '−1.141', '−2.037',\n",
      "       '−1.213'], dtype=object)]\n",
      "t encoded sequence: \n",
      "[array([-9.11, -1.63, 0.63, 1.04, 2.26], dtype=object), array([-9.11, -1.63, 0.63, 1.04, 2.26], dtype=object), array([-5.84, 0.3, 0.09, 0.08, 0.95], dtype=object), array([2.08, -0.47, 0.07, -1.67, -0.35], dtype=object), array([10.77, -1.14, -1.3, -1.77, 0.76], dtype=object)]\n",
      "integer encoded sequence: \n",
      "[0, 25, 26, 28]\n"
     ]
    }
   ],
   "source": [
    "## example encoding function for each dictionary\n",
    "# ST scores\n",
    "def st_encode_sequence(sequence, st_score_dict):\n",
    "    st_encoded_sequence = [st_score_dict[symbol] for symbol in sequence]\n",
    "    return st_encoded_sequence    \n",
    "symbols = true_aa_name_ls\n",
    "st_score_dict = get_st_score_dict(symbols)\n",
    "sequence = ['A', 'A', 'Hse', 'Y', 'Bip']\n",
    "st_encoded_sequence = st_encode_sequence(sequence, st_score_dict)\n",
    "print(\"st encoded sequence: \")\n",
    "print(st_encoded_sequence)\n",
    "\n",
    "# T scores\n",
    "def t_encode_sequence(sequence, t_score_dict):\n",
    "    t_encoded_sequence = [t_score_dict[symbol] for symbol in sequence]\n",
    "    return t_encoded_sequence    \n",
    "symbols = true_aa_name_ls\n",
    "t_score_dict = get_t_score_dict(symbols)\n",
    "sequence = ['A', 'A', 'Hse', 'Y', 'Bip']\n",
    "t_encoded_sequence = t_encode_sequence(sequence, t_score_dict)\n",
    "print(\"t encoded sequence: \")\n",
    "print(t_encoded_sequence)\n",
    "\n",
    "# integers\n",
    "input_tokens = [\"A\", \"Bpa\", \"*\", \"-\"]\n",
    "encoded_tokens = [integer_dict[token] for token in input_tokens]\n",
    "print((\"integer encoded sequence: \"))\n",
    "print(encoded_tokens)"
   ]
  },
  {
   "attachments": {},
   "cell_type": "markdown",
   "metadata": {},
   "source": [
    "One-hot encodings"
   ]
  },
  {
   "cell_type": "code",
   "execution_count": 136,
   "metadata": {},
   "outputs": [],
   "source": [
    "def get_ohe_dict(additional_tokens: list=None):\n",
    "    '''\n",
    "    Returns a dictionary with amino acids as keys and the corresponding\n",
    "    one-hot vectors as values.\n",
    "\n",
    "    additional_tokens : list, default=None\n",
    "    additional tokens are below\n",
    "    '''\n",
    "    if additional_tokens is None:\n",
    "        additional_tokens = []\n",
    "\n",
    "    idx_dict = {symbol: i for i, symbol in enumerate(true_aa_name_ls + additional_tokens)}\n",
    "    arr_dict = {key: np.eye(1, len(idx_dict), k=val) for (key, val) in idx_dict.items()}\n",
    "    return arr_dict\n",
    "\n",
    "#additional tokens\n",
    "termini_symbols = [\"*\", \"#\"]\n",
    "gap = [\"-\"]\n",
    "additional_tokens = termini_symbols + gap\n",
    "ohe_dict = get_ohe_dict(additional_tokens)"
   ]
  },
  {
   "cell_type": "code",
   "execution_count": 144,
   "metadata": {},
   "outputs": [
    {
     "name": "stdout",
     "output_type": "stream",
     "text": [
      "[array([[1., 0., 0., 0., 0., 0., 0., 0., 0., 0., 0., 0., 0., 0., 0., 0.,\n",
      "        0., 0., 0., 0., 0., 0., 0., 0., 0., 0., 0., 0., 0.]]), array([[0., 0., 0., 0., 0., 0., 0., 0., 0., 0., 0., 0., 0., 0., 0., 0.,\n",
      "        0., 0., 0., 0., 0., 0., 0., 0., 0., 1., 0., 0., 0.]]), array([[0., 0., 0., 0., 0., 0., 0., 0., 0., 0., 0., 0., 0., 0., 0., 0.,\n",
      "        0., 0., 0., 0., 0., 0., 0., 0., 0., 0., 1., 0., 0.]]), array([[0., 0., 0., 0., 0., 0., 0., 0., 0., 0., 0., 0., 0., 0., 0., 0.,\n",
      "        0., 0., 0., 0., 0., 0., 0., 0., 0., 0., 0., 0., 1.]])]\n"
     ]
    }
   ],
   "source": [
    "#testing the one-hot encodings\n",
    "input_tokens = [\"A\", \"Bpa\", \"*\", \"-\"]\n",
    "encoded_tokens = [ohe_dict[token] for token in input_tokens]\n",
    "print(encoded_tokens)"
   ]
  }
 ],
 "metadata": {
  "kernelspec": {
   "display_name": "MLSklearn",
   "language": "python",
   "name": "python3"
  },
  "language_info": {
   "codemirror_mode": {
    "name": "ipython",
    "version": 3
   },
   "file_extension": ".py",
   "mimetype": "text/x-python",
   "name": "python",
   "nbconvert_exporter": "python",
   "pygments_lexer": "ipython3",
   "version": "3.9.13"
  },
  "orig_nbformat": 4
 },
 "nbformat": 4,
 "nbformat_minor": 2
}
